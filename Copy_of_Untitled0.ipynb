{
  "nbformat": 4,
  "nbformat_minor": 0,
  "metadata": {
    "colab": {
      "provenance": [],
      "mount_file_id": "1MJ8Dc6LJKF2T5ev1lqTMI-SphSSPpgWo",
      "authorship_tag": "ABX9TyPUn49zPXko9NMIavc1i3Q/",
      "include_colab_link": true
    },
    "kernelspec": {
      "name": "python3",
      "display_name": "Python 3"
    },
    "language_info": {
      "name": "python"
    }
  },
  "cells": [
    {
      "cell_type": "markdown",
      "metadata": {
        "id": "view-in-github",
        "colab_type": "text"
      },
      "source": [
        "<a href=\"https://colab.research.google.com/github/rgtvlt67/Ecora/blob/main/Copy_of_Untitled0.ipynb\" target=\"_parent\"><img src=\"https://colab.research.google.com/assets/colab-badge.svg\" alt=\"Open In Colab\"/></a>"
      ]
    },
    {
      "cell_type": "code",
      "execution_count": null,
      "metadata": {
        "colab": {
          "base_uri": "https://localhost:8080/"
        },
        "id": "Pec2RO51suYi",
        "outputId": "861f533b-a3d5-4962-9382-791a84d6c707"
      },
      "outputs": [
        {
          "output_type": "stream",
          "name": "stdout",
          "text": [
            "Drive already mounted at /content/drive; to attempt to forcibly remount, call drive.mount(\"/content/drive\", force_remount=True).\n",
            "Shapefile saved to /content/drive/My Drive/chm/watershed_segments.shp\n"
          ]
        }
      ],
      "source": [
        "import rasterio\n",
        "from rasterio.features import shapes\n",
        "from scipy.ndimage import label, gaussian_filter, distance_transform_edt, maximum_filter\n",
        "import numpy as np\n",
        "import geopandas as gpd\n",
        "from shapely.geometry import shape\n",
        "from google.colab import drive\n",
        "\n",
        "# Mount Google Drive\n",
        "drive.mount('/content/drive')\n",
        "\n",
        "# Input and output paths\n",
        "chm_raster_path = \"/content/drive/My Drive/chm/chm.tif\"  # Replace with your file path\n",
        "output_shapefile_path = \"/content/drive/My Drive/chm/watershed_segments.shp\"  # Replace with output path\n",
        "\n",
        "# Load the Canopy Height Model (CHM)\n",
        "with rasterio.open(chm_raster_path) as src:\n",
        "    chm = src.read(1)  # Read the first band\n",
        "    chm_meta = src.meta  # Get metadata for the raster\n",
        "\n",
        "# Preprocess CHM (e.g., smoothing)\n",
        "chm[chm < 0] = 0  # Mask invalid values (e.g., negative heights)\n",
        "chm_smoothed = gaussian_filter(chm, sigma=2)  # Apply Gaussian smoothing to reduce noise\n",
        "\n",
        "# Generate markers for watershed using local maxima\n",
        "footprint = np.ones((3, 3))  # Define a neighborhood size for maximum filter\n",
        "local_maxima = (chm_smoothed == maximum_filter(chm_smoothed, footprint=footprint))  # Detect local maxima\n",
        "markers, num_features = label(local_maxima)  # Label the local maxima as markers\n",
        "\n",
        "# Perform watershed segmentation\n",
        "from skimage.segmentation import watershed\n",
        "segmentation = watershed(-chm_smoothed, markers, mask=(chm > 0))  # Watershed on the inverted CHM\n",
        "\n",
        "# Function to export segmentation results to a shapefile\n",
        "def export_segments_to_shapefile(segmentation, transform, output_path):\n",
        "    # Convert segmentation to shapes (polygons)\n",
        "    results = (\n",
        "        {'properties': {'segment_id': int(value)}, 'geometry': shape(geom)}\n",
        "        for geom, value in shapes(segmentation, transform=transform) if value > 0\n",
        "    )\n",
        "\n",
        "    # Convert to GeoDataFrame\n",
        "    gdf = gpd.GeoDataFrame.from_features(results, crs=\"EPSG:3005\")\n",
        "\n",
        "    # Save as shapefile\n",
        "    gdf.to_file(output_path)\n",
        "    print(f\"Shapefile saved to {output_path}\")\n",
        "\n",
        "# Export the segmentation results\n",
        "export_segments_to_shapefile(segmentation, src.transform, output_shapefile_path)\n",
        "\n",
        "\n"
      ]
    },
    {
      "cell_type": "code",
      "source": [
        "from google.colab import drive\n",
        "drive.mount('/content/drive')"
      ],
      "metadata": {
        "colab": {
          "base_uri": "https://localhost:8080/"
        },
        "id": "HyNI5RsDCtLQ",
        "outputId": "058f897a-5085-47af-e3eb-945cf2f6155c"
      },
      "execution_count": null,
      "outputs": [
        {
          "output_type": "stream",
          "name": "stdout",
          "text": [
            "Drive already mounted at /content/drive; to attempt to forcibly remount, call drive.mount(\"/content/drive\", force_remount=True).\n"
          ]
        }
      ]
    },
    {
      "cell_type": "code",
      "source": [
        "pip install rasterio"
      ],
      "metadata": {
        "colab": {
          "base_uri": "https://localhost:8080/"
        },
        "id": "qZR8wKUTtGIn",
        "outputId": "31bf9a31-774c-49ef-d7c6-593a14a5f9ef"
      },
      "execution_count": null,
      "outputs": [
        {
          "output_type": "stream",
          "name": "stdout",
          "text": [
            "Collecting rasterio\n",
            "  Downloading rasterio-1.4.3-cp310-cp310-manylinux_2_17_x86_64.manylinux2014_x86_64.whl.metadata (9.1 kB)\n",
            "Collecting affine (from rasterio)\n",
            "  Downloading affine-2.4.0-py3-none-any.whl.metadata (4.0 kB)\n",
            "Requirement already satisfied: attrs in /usr/local/lib/python3.10/dist-packages (from rasterio) (24.2.0)\n",
            "Requirement already satisfied: certifi in /usr/local/lib/python3.10/dist-packages (from rasterio) (2024.8.30)\n",
            "Requirement already satisfied: click>=4.0 in /usr/local/lib/python3.10/dist-packages (from rasterio) (8.1.7)\n",
            "Collecting cligj>=0.5 (from rasterio)\n",
            "  Downloading cligj-0.7.2-py3-none-any.whl.metadata (5.0 kB)\n",
            "Requirement already satisfied: numpy>=1.24 in /usr/local/lib/python3.10/dist-packages (from rasterio) (1.26.4)\n",
            "Collecting click-plugins (from rasterio)\n",
            "  Downloading click_plugins-1.1.1-py2.py3-none-any.whl.metadata (6.4 kB)\n",
            "Requirement already satisfied: pyparsing in /usr/local/lib/python3.10/dist-packages (from rasterio) (3.2.0)\n",
            "Downloading rasterio-1.4.3-cp310-cp310-manylinux_2_17_x86_64.manylinux2014_x86_64.whl (22.2 MB)\n",
            "\u001b[2K   \u001b[90m━━━━━━━━━━━━━━━━━━━━━━━━━━━━━━━━━━━━━━━━\u001b[0m \u001b[32m22.2/22.2 MB\u001b[0m \u001b[31m55.6 MB/s\u001b[0m eta \u001b[36m0:00:00\u001b[0m\n",
            "\u001b[?25hDownloading cligj-0.7.2-py3-none-any.whl (7.1 kB)\n",
            "Downloading affine-2.4.0-py3-none-any.whl (15 kB)\n",
            "Downloading click_plugins-1.1.1-py2.py3-none-any.whl (7.5 kB)\n",
            "Installing collected packages: cligj, click-plugins, affine, rasterio\n",
            "Successfully installed affine-2.4.0 click-plugins-1.1.1 cligj-0.7.2 rasterio-1.4.3\n"
          ]
        }
      ]
    }
  ]
}